{
 "cells": [
  {
   "cell_type": "code",
   "execution_count": 6,
   "metadata": {
    "collapsed": false
   },
   "outputs": [
    {
     "data": {
      "image/png": "[encoded data removed]",
      "text/plain": [
       "<matplotlib.figure.Figure at 0x3985fd0>"
      ]
     },
     "metadata": {},
     "output_type": "display_data"
    },
    {
     "data": {
      "image/png": "[encoded data removed]",
      "text/plain": [
       "<matplotlib.figure.Figure at 0x12a12c88>"
      ]
     },
     "metadata": {},
     "output_type": "display_data"
    },
    {
     "name": "stdout",
     "output_type": "stream",
     "text": [
      "('Tasa de llegada', [5, 1, 1, 5, 1, 3, 3, 4])\n"
     ]
    },
    {
     "data": {
      "image/png": "[encoded data removed]",
      "text/plain": [
       "<matplotlib.figure.Figure at 0x12afada0>"
      ]
     },
     "metadata": {},
     "output_type": "display_data"
    }
   ],
   "source": [
    "# coding: utf-8\n",
    "\n",
    "# In[50]:\n",
    "\n",
    "get_ipython().magic(u'matplotlib inline')\n",
    "\n",
    "import numpy as np\n",
    "import scipy as sp\n",
    "import matplotlib.pyplot as plt\n",
    "import math\n",
    "from scipy.integrate import quad\n",
    "\n",
    "l=3\n",
    "k=8\n",
    "a=[]\n",
    "acum=[]\n",
    "invepoi=[]\n",
    "plt.subplot(3,1,1)\n",
    "def poisson():\n",
    "    for i in range(k):\n",
    "        f=(math.exp(-l)*l**i)/math.factorial(i)\n",
    "        a.append(f)\n",
    "    return a\n",
    "plt.plot(poisson(),marker=\"o\",linestyle=\"--\")\n",
    "plt.show()\n",
    "plt.subplot(3,1,2)\n",
    "def acumupoisson():\n",
    "    g=0\n",
    "    for i in range(k):\n",
    "        g=a[i]+g\n",
    "        acum.append(g)\n",
    "    #print(acum)\n",
    "    return acum\n",
    "plt.plot(acumupoisson())\n",
    "plt.show()\n",
    "plt.subplot(3,1,3)\n",
    "def aleatorios(al):\n",
    "    xo=al\n",
    "    ga=[]\n",
    "    for i in range(k):\n",
    "        mod=(223*xo+23)%829\n",
    "        ui=float(mod)/829\n",
    "        xo=mod\n",
    "        ga.append(ui)\n",
    "    #print(ga)\n",
    "    return ga\n",
    "def inverpoisson():\n",
    "    ga=aleatorios(7)\n",
    "    for i in range(k):\n",
    "        for j in range(k):\n",
    "            if ga[i]<acum[j]:\n",
    "                invepoi.append(j)\n",
    "                break\n",
    "    print(\"Tasa de llegada\",invepoi)\n",
    "    return invepoi\n",
    "inp=inverpoisson()\n",
    "plt.plot(inp)\n",
    "plt.show()"
   ]
  },
  {
   "cell_type": "code",
   "execution_count": 7,
   "metadata": {
    "collapsed": false
   },
   "outputs": [
    {
     "name": "stdout",
     "output_type": "stream",
     "text": [
      "('Atendidos x servidor', [0, 2.7475004282244546, 4.477909664117595, 6.076820011332593, 5.652792154579502, 0, 0, 7.02544664131606])\n"
     ]
    }
   ],
   "source": [
    "#normal\n",
    "o=1\n",
    "u=1\n",
    "\n",
    "def invnormal():\n",
    "    invn=[]\n",
    "    gan=aleatorios(19)\n",
    "    for i in range(k):\n",
    "        x=(2*gan[i])-1\n",
    "        pr=2/float(math.sqrt(math.pi))\n",
    "        y,e=quad(lambda t: math.exp(-t**2),0,x)\n",
    "        error=pr*y\n",
    "        inver=u+(o*math.sqrt(2)*(1/error))\n",
    "        if(inver<0):\n",
    "            inver=0\n",
    "        invn.append(inver)\n",
    "    print(\"Atendidos x servidor\",invn)\n",
    "    return invn\n",
    "gg=invnormal()\n"
   ]
  },
  {
   "cell_type": "code",
   "execution_count": 8,
   "metadata": {
    "collapsed": false
   },
   "outputs": [
    {
     "name": "stdout",
     "output_type": "stream",
     "text": [
      "('Clientes en cola', [0, 5, 3.2524995717755454, 0, 0, 0, 3, 6])\n"
     ]
    }
   ],
   "source": [
    "#numero de clientes en cola\n",
    "cc=[]\n",
    "ll=0\n",
    "def cliencola(ll):\n",
    "    cc.append(ll)\n",
    "    for i in range(k-1):\n",
    "        ll=(inp[i]+ll)-gg[i]\n",
    "        if ll<0:\n",
    "            ll=0\n",
    "        cc.append(ll)\n",
    "    print(\"Clientes en cola\",cc)\n",
    "    return cc\n",
    "x=cliencola(ll)"
   ]
  },
  {
   "cell_type": "code",
   "execution_count": 9,
   "metadata": {
    "collapsed": false
   },
   "outputs": [
    {
     "name": "stdout",
     "output_type": "stream",
     "text": [
      "t   N llegada   N en cola   Atendidosxservidor   Cliente en Sistema\n",
      "  \n",
      "0        5        0.00          0.00                    5\n",
      "1        1        5.00          2.75                    6\n",
      "2        1        3.25          4.48                    4\n",
      "3        5        0.00          6.08                    5\n",
      "4        1        0.00          5.65                    1\n",
      "5        3        0.00          0.00                    3\n",
      "6        3        3.00          0.00                    6\n",
      "7        4        6.00          7.03                    10\n",
      "('Tiempo promedio en cola:', '20.87', 'Minutos')\n",
      "('Tiempo promedio en sistema:', '11.92', 'Minutos')\n",
      "('Tiempo promedio en servidor:', '18.48', 'Minutos')\n"
     ]
    }
   ],
   "source": [
    "#numero de horas=8\n",
    "print \"t\", \"  N llegada\",\"  N en cola\",\"  Atendidosxservidor\",\"  Cliente en Sistema\"\n",
    "print(\"  \")\n",
    "for i in range(k):\n",
    "    print i, \"      \",invepoi[i]  ,  \"      \", \"{0:.2f}\".format(x[i]),\"        \" ,\"{0:.2f}\".format(gg[i]),\"                  \" ,int(invepoi[i]+x[i])\n",
    "def tpcola():\n",
    "    s=0\n",
    "    for i in range(k):\n",
    "        \n",
    "        s=invepoi[i]+s\n",
    "    #print(s)\n",
    "    z=(8/float(s))*60\n",
    "    print(\"Tiempo promedio en cola:\",\"{0:.2f}\".format(z), \"Minutos\")\n",
    "    return s\n",
    "f=tpcola()   \n",
    "def tpsistema():\n",
    "    ss=0\n",
    "    for i in range(k):\n",
    "        ss=(invepoi[i]+x[i])+ss\n",
    "    #print(s)\n",
    "    zi=(8/float(ss))*60\n",
    "    print(\"Tiempo promedio en sistema:\",\"{0:.2f}\".format(zi), \"Minutos\")\n",
    "    return ss\n",
    "fg=tpsistema()  \n",
    "def tpservidor():\n",
    "    ser=0\n",
    "    for i in range(k):\n",
    "        ser=gg[i]+ser\n",
    "    #print(s)\n",
    "    ze=(8/float(ser))*60\n",
    "    print(\"Tiempo promedio en servidor:\",\"{0:.2f}\".format(ze), \"Minutos\")\n",
    "    return ser\n",
    "fk=tpservidor() "
   ]
  },
  {
   "cell_type": "code",
   "execution_count": null,
   "metadata": {
    "collapsed": true
   },
   "outputs": [],
   "source": []
  }
 ],
 "metadata": {
  "kernelspec": {
   "display_name": "Python 2",
   "language": "python",
   "name": "python2"
  },
  "language_info": {
   "codemirror_mode": {
    "name": "ipython",
    "version": 2
   },
   "file_extension": ".py",
   "mimetype": "text/x-python",
   "name": "python",
   "nbconvert_exporter": "python",
   "pygments_lexer": "ipython2",
   "version": "2.7.10"
  }
 },
 "nbformat": 4,
 "nbformat_minor": 0
}
